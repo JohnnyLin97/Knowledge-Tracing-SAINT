{
 "cells": [
  {
   "cell_type": "code",
   "execution_count": null,
   "metadata": {},
   "outputs": [],
   "source": [
    "s = \"hey man\"\n",
    "abs(hash(s)) % (10 ** 8)"
   ]
  },
  {
   "cell_type": "code",
   "execution_count": 1,
   "metadata": {},
   "outputs": [
    {
     "name": "stdout",
     "output_type": "stream",
     "text": [
      "loading csv.....\n",
      "shape of dataframe : (624667, 7)\n",
      "Grouping users...\n",
      "splitting\n",
      "train size:  (1571,) validation size:  (393,)\n"
     ]
    }
   ],
   "source": [
    "import config \n",
    "from models.ltmti import LTMTI \n",
    "from models.utmti import UTMTI \n",
    "from models.saint import SAINT\n",
    "from models.ssakt import SSAKT\n",
    "from dataset import DKTDataset , get_dataloaders\n",
    "\n",
    "import torch\n",
    "from torch import nn\n",
    "import pytorch_lightning as pl\n",
    "from pytorch_lightning.callbacks import ModelCheckpoint"
   ]
  },
  {
   "cell_type": "code",
   "execution_count": null,
   "metadata": {},
   "outputs": [],
   "source": [
    "class SAKTModel(pl.LightningModule):\n",
    "  def __init__(self,model_args,model=\"saint\"):\n",
    "    super().__init__()\n",
    "    if model == \"ltmti\":\n",
    "      self.model = LTMTI(**model_args)\n",
    "    elif model == \"utmti\":\n",
    "      self.model = UTMTI(**model_args)\n",
    "    elif model == \"ssakt\":\n",
    "      self.model = SSAKT(**model_args)\n",
    "    elif model == \"saint\":\n",
    "      self.model = SAINT(**model_args)\n",
    "      \n",
    "  \n",
    "  def forward(self,exercise,category,response,etime):\n",
    "    return self.model(exercise,category,response,etime)\n",
    "\n",
    "  def configure_optimizers(self):\n",
    "    return torch.optim.Adam(self.parameters(),lr=1e-3)\n",
    "  \n",
    "  def training_step(self,batch,batch_idx):\n",
    "    inputs,target_ids,target = batch\n",
    "    output = self(inputs[\"input_ids\"],inputs[\"input_cat\"],target_ids,inputs[\"input_rtime\"])\n",
    "    target_mask = (target_ids != 0)\n",
    "    output = torch.masked_select(output.squeeze(),target_mask)\n",
    "    target = torch.masked_select(target,target_mask)\n",
    "    loss = nn.BCEWithLogitsLoss()(output.float(),target.float())\n",
    "    return {\"loss\":loss,\"output\":output,\"target\":target}\n",
    "  \n",
    "  def validation_step(self,batch,batch_idx):\n",
    "    inputs,target_ids,target = batch\n",
    "    output = self(inputs[\"input_ids\"],inputs[\"input_cat\"],target_ids,inputs[\"input_rtime\"])\n",
    "    target_mask = (target_ids != 0)\n",
    "    output = torch.masked_select(output.squeeze(),target_mask)\n",
    "    target = torch.masked_select(target,target_mask)\n",
    "    loss = nn.BCEWithLogitsLoss()(output.float(),target.float())\n",
    "    return {\"val_loss\":loss,\"output\":output,\"target\":target}"
   ]
  },
  {
   "cell_type": "code",
   "execution_count": null,
   "metadata": {},
   "outputs": [],
   "source": [
    "train_loader, val_loader = get_dataloaders()\n",
    "\n",
    "ARGS = {\"n_dims\":config.EMBED_DIMS ,\n",
    "            'n_encoder':config.NUM_ENCODER,\n",
    "            'n_decoder':config.NUM_DECODER,\n",
    "            'enc_heads':config.ENC_HEADS,\n",
    "            'dec_heads':config.DEC_HEADS,\n",
    "            'total_ex':config.TOTAL_EXE,\n",
    "            'total_cat':config.TOTAL_CAT,\n",
    "            'total_responses':config.TOTAL_EXE,\n",
    "            'seq_len':config.MAX_SEQ}\n",
    "\n",
    "########### TRAINING AND SAVING MODEL #######\n",
    "checkpoint = ModelCheckpoint(filename=\"{epoch}_model\",\n",
    "                              verbose=True,\n",
    "                              save_top_k=1,\n",
    "                              monitor=\"val_loss\")\n",
    "\n",
    "sakt_model = SAKTModel(model=\"ltmti\",model_args=ARGS)\n",
    "trainer = pl.Trainer(progress_bar_refresh_rate=21,\n",
    "                      max_epochs=1,callbacks=[checkpoint]) \n",
    "trainer.fit(model = sakt_model,\n",
    "              train_dataloader=train_loader,val_dataloaders=val_loader) \n",
    "trainer.save_checkpoint(\"model_sakt.pt\")"
   ]
  }
 ],
 "metadata": {
  "kernelspec": {
   "display_name": "Python 3",
   "language": "python",
   "name": "python3"
  },
  "language_info": {
   "codemirror_mode": {
    "name": "ipython",
    "version": 3
   },
   "file_extension": ".py",
   "mimetype": "text/x-python",
   "name": "python",
   "nbconvert_exporter": "python",
   "pygments_lexer": "ipython3",
   "version": "3.9.9"
  },
  "orig_nbformat": 4
 },
 "nbformat": 4,
 "nbformat_minor": 2
}
